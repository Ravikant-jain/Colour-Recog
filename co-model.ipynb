{
 "cells": [
  {
   "cell_type": "code",
   "execution_count": 371,
   "metadata": {},
   "outputs": [],
   "source": [
    "import tensorflow as tf\n",
    "from tensorflow.keras.datasets import mnist\n",
    "from tensorflow.keras.models import Sequential\n",
    "from tensorflow.keras.layers import Dense, Flatten\n",
    "\n",
    "import numpy as np\n",
    "import matplotlib.pyplot as plt"
   ]
  },
  {
   "cell_type": "code",
   "execution_count": 372,
   "metadata": {},
   "outputs": [],
   "source": [
    "from PIL import Image"
   ]
  },
  {
   "cell_type": "code",
   "execution_count": 373,
   "metadata": {},
   "outputs": [],
   "source": [
    "def find_fre(arr):\n",
    "    ansdick={}\n",
    "    uniarr=set(arr)\n",
    "    for i in uniarr:\n",
    "        cntr=0\n",
    "        temparr=arr.copy()\n",
    "        while i in temparr:\n",
    "            cntr=cntr+1\n",
    "            nx=temparr.index(i)\n",
    "            temparr[nx]='*'\n",
    "        ansdick[i]=cntr\n",
    "    \n",
    "    return ansdick"
   ]
  },
  {
   "cell_type": "code",
   "execution_count": 374,
   "metadata": {},
   "outputs": [
    {
     "name": "stdout",
     "output_type": "stream",
     "text": [
      "number of images : 225 \n",
      "number of generated labels : 225\n"
     ]
    }
   ],
   "source": [
    "import os\n",
    "from PIL import Image\n",
    "import numpy as np\n",
    "\n",
    "data_path = r'D:\\Github\\Face-Recog\\co-data' \n",
    "color_folders = os.listdir(data_path)  #listing all folders (colors)\n",
    "\n",
    "train_img = []  \n",
    "t_label=[]\n",
    "target_size = (64, 64)  \n",
    "\n",
    "\n",
    "for col_num,color_folder in enumerate(color_folders):\n",
    "    color_path = os.path.join(data_path, color_folder)  #path to reach each color folder\n",
    "    if os.path.isdir(color_path):\n",
    "        for img_file in os.listdir(color_path):\n",
    "            t_label.append(col_num)\n",
    "            # counter=counter+1\n",
    "            img_path = os.path.join(color_path, img_file)\n",
    "            try:\n",
    "                img = Image.open(img_path)\n",
    "                img = img.resize(target_size)  #resizing the image to a common size\n",
    "                img_array = np.array(img)\n",
    "                # print(img_array.shape)\n",
    "                \n",
    "                if len(img_array.shape)==3 and img_array.shape[2]==3 :\n",
    "                    # print(img_array,'end')\n",
    "                    train_img.append(img_array)\n",
    "                    \n",
    "                    \n",
    "                if len(img_array.shape)==2:\n",
    "                    \n",
    "                    # print(img_array.shape)\n",
    "                    converted_array = np.expand_dims(img_array, axis=-1)\n",
    "                    converted_array = np.repeat(converted_array, 3, axis=-1)\n",
    "                    # print(converted_array.shape)\n",
    "                    \n",
    "                    train_img.append(converted_array)\n",
    "                    \n",
    "                elif img_array.shape[2]!=3 :\n",
    "                    # print(img_array.shape)\n",
    "                    converted_array2 = img_array[:, :, :3]\n",
    "                    train_img.append(converted_array2)\n",
    "                    \n",
    "                    # print('convertion',converted_array.shape)\n",
    "                    \n",
    "\n",
    "\n",
    "            except Exception as e:\n",
    "                print(img_array.shape)\n",
    "                print(f\"Error processing {img_path}: {e}\")\n",
    "\n",
    "# Convert the list of image arrays into a numpy array\n",
    "# train_img = np.array(train_img)\n",
    "\n",
    "print(f\"number of images : {len(train_img)} \\nnumber of generated labels : {len(t_label)}\")"
   ]
  },
  {
   "cell_type": "code",
   "execution_count": 375,
   "metadata": {},
   "outputs": [
    {
     "data": {
      "text/plain": [
       "{0: 25, 1: 25, 2: 25, 3: 25, 4: 25, 5: 25, 6: 25, 7: 25, 8: 25}"
      ]
     },
     "execution_count": 375,
     "metadata": {},
     "output_type": "execute_result"
    }
   ],
   "source": [
    "tdic=find_fre(t_label)\n",
    "tdic"
   ]
  },
  {
   "cell_type": "code",
   "execution_count": 376,
   "metadata": {},
   "outputs": [
    {
     "data": {
      "text/plain": [
       "['Black',\n",
       " 'Blue',\n",
       " 'Brown',\n",
       " 'Green',\n",
       " 'Orange',\n",
       " 'Red',\n",
       " 'Violet',\n",
       " 'White',\n",
       " 'Yellow']"
      ]
     },
     "execution_count": 376,
     "metadata": {},
     "output_type": "execute_result"
    }
   ],
   "source": [
    "color_folders"
   ]
  },
  {
   "cell_type": "code",
   "execution_count": 377,
   "metadata": {},
   "outputs": [
    {
     "data": {
      "text/plain": [
       "(225, 64, 64, 3)"
      ]
     },
     "execution_count": 377,
     "metadata": {},
     "output_type": "execute_result"
    }
   ],
   "source": [
    "train_img=np.array(train_img)\n",
    "train_img.shape"
   ]
  },
  {
   "cell_type": "code",
   "execution_count": 378,
   "metadata": {},
   "outputs": [],
   "source": [
    "for idx in train_img:\n",
    "    pass\n",
    "    # print(idx[:1,:1,:])\n",
    "    # print(idx.shape)"
   ]
  },
  {
   "cell_type": "code",
   "execution_count": 379,
   "metadata": {},
   "outputs": [],
   "source": [
    "# for ix in train_img:\n",
    "#     plt.imshow(ix)\n",
    "#     plt.title('Array Photo')\n",
    "#     plt.show()"
   ]
  },
  {
   "cell_type": "code",
   "execution_count": 380,
   "metadata": {},
   "outputs": [
    {
     "data": {
      "text/plain": [
       "array([[1., 0., 0., ..., 0., 0., 0.],\n",
       "       [1., 0., 0., ..., 0., 0., 0.],\n",
       "       [1., 0., 0., ..., 0., 0., 0.],\n",
       "       ...,\n",
       "       [0., 0., 0., ..., 0., 0., 1.],\n",
       "       [0., 0., 0., ..., 0., 0., 1.],\n",
       "       [0., 0., 0., ..., 0., 0., 1.]], dtype=float32)"
      ]
     },
     "execution_count": 380,
     "metadata": {},
     "output_type": "execute_result"
    }
   ],
   "source": [
    "train_label = tf.keras.utils.to_categorical(t_label)\n",
    "train_label"
   ]
  },
  {
   "cell_type": "code",
   "execution_count": 381,
   "metadata": {},
   "outputs": [],
   "source": [
    "model = Sequential()\n",
    "\n",
    "model.add(Flatten(input_shape=(64,64,3)))  # input layer and flattening the 64X64 images to a 1D array\n",
    "model.add(Dense(128, activation='relu'))  # Hidden layer with 128 neurons\n",
    "model.add(Dense(64, activation='relu'))  # Hidden layer with 64 neurons\n",
    "model.add(Dense(32, activation='relu'))  # Hidden layer with 32 neurons\n",
    "model.add(Dense(16, activation='relu'))  # Hidden layer with 16 neurons\n",
    "model.add(Dense(9, activation='softmax'))  # Output layer with 9 neurons (for 0-9 colors)\n",
    "\n",
    "model.compile(optimizer='adam',loss='categorical_crossentropy',metrics=['accuracy'])"
   ]
  },
  {
   "cell_type": "code",
   "execution_count": 382,
   "metadata": {},
   "outputs": [
    {
     "name": "stdout",
     "output_type": "stream",
     "text": [
      "Model: \"sequential_11\"\n",
      "_________________________________________________________________\n",
      " Layer (type)                Output Shape              Param #   \n",
      "=================================================================\n",
      " flatten_11 (Flatten)        (None, 12288)             0         \n",
      "                                                                 \n",
      " dense_49 (Dense)            (None, 128)               1572992   \n",
      "                                                                 \n",
      " dense_50 (Dense)            (None, 64)                8256      \n",
      "                                                                 \n",
      " dense_51 (Dense)            (None, 32)                2080      \n",
      "                                                                 \n",
      " dense_52 (Dense)            (None, 16)                528       \n",
      "                                                                 \n",
      " dense_53 (Dense)            (None, 9)                 153       \n",
      "                                                                 \n",
      "=================================================================\n",
      "Total params: 1584009 (6.04 MB)\n",
      "Trainable params: 1584009 (6.04 MB)\n",
      "Non-trainable params: 0 (0.00 Byte)\n",
      "_________________________________________________________________\n"
     ]
    }
   ],
   "source": [
    "model.summary()"
   ]
  },
  {
   "cell_type": "code",
   "execution_count": 383,
   "metadata": {},
   "outputs": [
    {
     "data": {
      "text/plain": [
       "(225, 64, 64, 3)"
      ]
     },
     "execution_count": 383,
     "metadata": {},
     "output_type": "execute_result"
    }
   ],
   "source": [
    "train_img.shape"
   ]
  },
  {
   "cell_type": "code",
   "execution_count": 384,
   "metadata": {},
   "outputs": [
    {
     "name": "stdout",
     "output_type": "stream",
     "text": [
      "Epoch 1/200\n"
     ]
    },
    {
     "name": "stdout",
     "output_type": "stream",
     "text": [
      "3/3 [==============================] - 1s 152ms/step - loss: 481.0017 - accuracy: 0.2000 - val_loss: 2310.3984 - val_accuracy: 0.0000e+00\n",
      "Epoch 2/200\n",
      "3/3 [==============================] - 0s 57ms/step - loss: 947.6672 - accuracy: 0.1444 - val_loss: 994.7512 - val_accuracy: 0.1333\n",
      "Epoch 3/200\n",
      "3/3 [==============================] - 0s 45ms/step - loss: 505.0432 - accuracy: 0.2611 - val_loss: 652.9957 - val_accuracy: 0.0000e+00\n",
      "Epoch 4/200\n",
      "3/3 [==============================] - 0s 51ms/step - loss: 415.0833 - accuracy: 0.2611 - val_loss: 630.6297 - val_accuracy: 0.4444\n",
      "Epoch 5/200\n",
      "3/3 [==============================] - 0s 33ms/step - loss: 344.8518 - accuracy: 0.2167 - val_loss: 307.3711 - val_accuracy: 0.5556\n",
      "Epoch 6/200\n",
      "3/3 [==============================] - 0s 41ms/step - loss: 224.9829 - accuracy: 0.1889 - val_loss: 345.3048 - val_accuracy: 0.4444\n",
      "Epoch 7/200\n",
      "3/3 [==============================] - 0s 51ms/step - loss: 134.4841 - accuracy: 0.1944 - val_loss: 408.4190 - val_accuracy: 0.0000e+00\n",
      "Epoch 8/200\n",
      "3/3 [==============================] - 0s 54ms/step - loss: 124.7467 - accuracy: 0.3667 - val_loss: 303.1811 - val_accuracy: 0.0000e+00\n",
      "Epoch 9/200\n",
      "3/3 [==============================] - 0s 55ms/step - loss: 102.3959 - accuracy: 0.3500 - val_loss: 220.7570 - val_accuracy: 0.2000\n",
      "Epoch 10/200\n",
      "3/3 [==============================] - 0s 41ms/step - loss: 58.5822 - accuracy: 0.4278 - val_loss: 284.6911 - val_accuracy: 0.0000e+00\n",
      "Epoch 11/200\n",
      "3/3 [==============================] - 0s 40ms/step - loss: 76.1869 - accuracy: 0.3944 - val_loss: 147.0557 - val_accuracy: 0.4000\n",
      "Epoch 12/200\n",
      "3/3 [==============================] - 0s 45ms/step - loss: 57.9478 - accuracy: 0.4389 - val_loss: 225.1620 - val_accuracy: 0.0000e+00\n",
      "Epoch 13/200\n",
      "3/3 [==============================] - 0s 39ms/step - loss: 53.6908 - accuracy: 0.4056 - val_loss: 225.5412 - val_accuracy: 0.0000e+00\n",
      "Epoch 14/200\n",
      "3/3 [==============================] - 0s 49ms/step - loss: 56.4869 - accuracy: 0.4444 - val_loss: 205.5939 - val_accuracy: 0.0000e+00\n",
      "Epoch 15/200\n",
      "3/3 [==============================] - 0s 47ms/step - loss: 32.8085 - accuracy: 0.5333 - val_loss: 231.5052 - val_accuracy: 0.0444\n",
      "Epoch 16/200\n",
      "3/3 [==============================] - 0s 48ms/step - loss: 34.9685 - accuracy: 0.4944 - val_loss: 128.7801 - val_accuracy: 0.0000e+00\n",
      "Epoch 17/200\n",
      "3/3 [==============================] - 0s 48ms/step - loss: 29.5846 - accuracy: 0.5278 - val_loss: 222.1659 - val_accuracy: 0.0000e+00\n",
      "Epoch 18/200\n",
      "3/3 [==============================] - 0s 44ms/step - loss: 21.4669 - accuracy: 0.6278 - val_loss: 82.6971 - val_accuracy: 0.4222\n",
      "Epoch 19/200\n",
      "3/3 [==============================] - 0s 43ms/step - loss: 20.1449 - accuracy: 0.5556 - val_loss: 179.3410 - val_accuracy: 0.0000e+00\n",
      "Epoch 20/200\n",
      "3/3 [==============================] - 0s 43ms/step - loss: 25.1805 - accuracy: 0.5778 - val_loss: 132.3676 - val_accuracy: 0.4444\n",
      "Epoch 21/200\n",
      "3/3 [==============================] - 0s 41ms/step - loss: 13.8985 - accuracy: 0.6167 - val_loss: 109.0174 - val_accuracy: 0.0444\n",
      "Epoch 22/200\n",
      "3/3 [==============================] - 0s 37ms/step - loss: 19.2666 - accuracy: 0.5833 - val_loss: 233.2560 - val_accuracy: 0.0000e+00\n",
      "Epoch 23/200\n",
      "3/3 [==============================] - 0s 41ms/step - loss: 21.7273 - accuracy: 0.6278 - val_loss: 107.4613 - val_accuracy: 0.4444\n",
      "Epoch 24/200\n",
      "3/3 [==============================] - 0s 41ms/step - loss: 22.5872 - accuracy: 0.5611 - val_loss: 272.9280 - val_accuracy: 0.0000e+00\n",
      "Epoch 25/200\n",
      "3/3 [==============================] - 0s 41ms/step - loss: 35.8651 - accuracy: 0.5667 - val_loss: 99.3345 - val_accuracy: 0.4222\n",
      "Epoch 26/200\n",
      "3/3 [==============================] - 0s 45ms/step - loss: 16.4632 - accuracy: 0.7000 - val_loss: 143.1376 - val_accuracy: 0.0000e+00\n",
      "Epoch 27/200\n",
      "3/3 [==============================] - 0s 48ms/step - loss: 13.0042 - accuracy: 0.7333 - val_loss: 160.1862 - val_accuracy: 0.4222\n",
      "Epoch 28/200\n",
      "3/3 [==============================] - 0s 44ms/step - loss: 10.9694 - accuracy: 0.7056 - val_loss: 127.2831 - val_accuracy: 0.0000e+00\n",
      "Epoch 29/200\n",
      "3/3 [==============================] - 0s 47ms/step - loss: 10.0688 - accuracy: 0.7389 - val_loss: 127.6658 - val_accuracy: 0.0444\n",
      "Epoch 30/200\n",
      "3/3 [==============================] - 0s 43ms/step - loss: 6.5267 - accuracy: 0.7278 - val_loss: 149.4068 - val_accuracy: 0.4222\n",
      "Epoch 31/200\n",
      "3/3 [==============================] - 0s 45ms/step - loss: 3.6528 - accuracy: 0.7722 - val_loss: 138.5246 - val_accuracy: 0.0000e+00\n",
      "Epoch 32/200\n",
      "3/3 [==============================] - 0s 50ms/step - loss: 3.4301 - accuracy: 0.8389 - val_loss: 112.1498 - val_accuracy: 0.4000\n",
      "Epoch 33/200\n",
      "3/3 [==============================] - 0s 47ms/step - loss: 2.6313 - accuracy: 0.8222 - val_loss: 120.9002 - val_accuracy: 0.4222\n",
      "Epoch 34/200\n",
      "3/3 [==============================] - 0s 49ms/step - loss: 1.2850 - accuracy: 0.8667 - val_loss: 119.9840 - val_accuracy: 0.0000e+00\n",
      "Epoch 35/200\n",
      "3/3 [==============================] - 0s 41ms/step - loss: 2.0718 - accuracy: 0.8722 - val_loss: 117.6233 - val_accuracy: 0.4222\n",
      "Epoch 36/200\n",
      "3/3 [==============================] - 0s 42ms/step - loss: 2.0469 - accuracy: 0.8000 - val_loss: 143.2570 - val_accuracy: 0.4222\n",
      "Epoch 37/200\n",
      "3/3 [==============================] - 0s 43ms/step - loss: 1.7971 - accuracy: 0.8389 - val_loss: 103.1485 - val_accuracy: 0.3333\n",
      "Epoch 38/200\n",
      "3/3 [==============================] - 0s 50ms/step - loss: 1.7526 - accuracy: 0.8611 - val_loss: 107.1477 - val_accuracy: 0.4222\n",
      "Epoch 39/200\n",
      "3/3 [==============================] - 0s 46ms/step - loss: 1.4495 - accuracy: 0.8333 - val_loss: 116.9891 - val_accuracy: 0.4222\n",
      "Epoch 40/200\n",
      "3/3 [==============================] - 0s 56ms/step - loss: 1.4639 - accuracy: 0.8444 - val_loss: 110.5731 - val_accuracy: 0.0000e+00\n",
      "Epoch 41/200\n",
      "3/3 [==============================] - 0s 49ms/step - loss: 1.8811 - accuracy: 0.9056 - val_loss: 105.7420 - val_accuracy: 0.3111\n",
      "Epoch 42/200\n",
      "3/3 [==============================] - 0s 39ms/step - loss: 1.5860 - accuracy: 0.8556 - val_loss: 127.7507 - val_accuracy: 0.4222\n",
      "Epoch 43/200\n",
      "3/3 [==============================] - 0s 37ms/step - loss: 1.4077 - accuracy: 0.8778 - val_loss: 102.5186 - val_accuracy: 0.1111\n",
      "Epoch 44/200\n",
      "3/3 [==============================] - 0s 39ms/step - loss: 2.0947 - accuracy: 0.9056 - val_loss: 111.0836 - val_accuracy: 0.0000e+00\n",
      "Epoch 45/200\n",
      "3/3 [==============================] - 0s 37ms/step - loss: 1.7946 - accuracy: 0.8444 - val_loss: 142.4997 - val_accuracy: 0.4222\n",
      "Epoch 46/200\n",
      "3/3 [==============================] - 0s 39ms/step - loss: 2.2879 - accuracy: 0.8222 - val_loss: 117.5696 - val_accuracy: 0.4222\n",
      "Epoch 47/200\n",
      "3/3 [==============================] - 0s 41ms/step - loss: 1.7061 - accuracy: 0.8667 - val_loss: 115.3022 - val_accuracy: 0.3111\n",
      "Epoch 48/200\n",
      "3/3 [==============================] - 0s 41ms/step - loss: 1.1916 - accuracy: 0.9056 - val_loss: 130.4425 - val_accuracy: 0.4222\n",
      "Epoch 49/200\n",
      "3/3 [==============================] - 0s 39ms/step - loss: 1.0146 - accuracy: 0.8667 - val_loss: 120.4640 - val_accuracy: 0.4222\n",
      "Epoch 50/200\n",
      "3/3 [==============================] - 0s 44ms/step - loss: 0.3609 - accuracy: 0.9500 - val_loss: 115.3933 - val_accuracy: 0.0000e+00\n",
      "Epoch 51/200\n",
      "3/3 [==============================] - 0s 39ms/step - loss: 0.8020 - accuracy: 0.9500 - val_loss: 125.2575 - val_accuracy: 0.4222\n",
      "Epoch 52/200\n",
      "3/3 [==============================] - 0s 45ms/step - loss: 0.7725 - accuracy: 0.9000 - val_loss: 138.7746 - val_accuracy: 0.4222\n",
      "Epoch 53/200\n",
      "3/3 [==============================] - 0s 44ms/step - loss: 1.0976 - accuracy: 0.8722 - val_loss: 117.5108 - val_accuracy: 0.4000\n",
      "Epoch 54/200\n",
      "3/3 [==============================] - 0s 45ms/step - loss: 2.3085 - accuracy: 0.8611 - val_loss: 113.4185 - val_accuracy: 0.4222\n",
      "Epoch 55/200\n",
      "3/3 [==============================] - 0s 46ms/step - loss: 1.4842 - accuracy: 0.9111 - val_loss: 118.9025 - val_accuracy: 0.2444\n",
      "Epoch 56/200\n",
      "3/3 [==============================] - 0s 46ms/step - loss: 0.8095 - accuracy: 0.9167 - val_loss: 110.0859 - val_accuracy: 0.3333\n",
      "Epoch 57/200\n",
      "3/3 [==============================] - 0s 43ms/step - loss: 2.1693 - accuracy: 0.9111 - val_loss: 102.6723 - val_accuracy: 0.1556\n",
      "Epoch 58/200\n",
      "3/3 [==============================] - 0s 48ms/step - loss: 0.9741 - accuracy: 0.9333 - val_loss: 112.4707 - val_accuracy: 0.4222\n",
      "Epoch 59/200\n",
      "3/3 [==============================] - 0s 48ms/step - loss: 0.4130 - accuracy: 0.9444 - val_loss: 115.4976 - val_accuracy: 0.4222\n",
      "Epoch 60/200\n",
      "3/3 [==============================] - 0s 45ms/step - loss: 0.3933 - accuracy: 0.9389 - val_loss: 115.4748 - val_accuracy: 0.4222\n",
      "Epoch 61/200\n",
      "3/3 [==============================] - 0s 48ms/step - loss: 0.2328 - accuracy: 0.9556 - val_loss: 109.0979 - val_accuracy: 0.4000\n",
      "Epoch 62/200\n",
      "3/3 [==============================] - 0s 43ms/step - loss: 0.1943 - accuracy: 0.9556 - val_loss: 111.7461 - val_accuracy: 0.3778\n",
      "Epoch 63/200\n",
      "3/3 [==============================] - 0s 45ms/step - loss: 0.3475 - accuracy: 0.9389 - val_loss: 110.4908 - val_accuracy: 0.3778\n",
      "Epoch 64/200\n",
      "3/3 [==============================] - 0s 43ms/step - loss: 0.7470 - accuracy: 0.9278 - val_loss: 118.1568 - val_accuracy: 0.4222\n",
      "Epoch 65/200\n",
      "3/3 [==============================] - 0s 42ms/step - loss: 0.8484 - accuracy: 0.9222 - val_loss: 117.6669 - val_accuracy: 0.4222\n",
      "Epoch 66/200\n",
      "3/3 [==============================] - 0s 38ms/step - loss: 0.2476 - accuracy: 0.9611 - val_loss: 118.0867 - val_accuracy: 0.0000e+00\n",
      "Epoch 67/200\n",
      "3/3 [==============================] - 0s 38ms/step - loss: 0.5243 - accuracy: 0.9389 - val_loss: 112.0055 - val_accuracy: 0.2889\n",
      "Epoch 68/200\n",
      "3/3 [==============================] - 0s 44ms/step - loss: 0.3261 - accuracy: 0.9444 - val_loss: 106.1266 - val_accuracy: 0.3556\n",
      "Epoch 69/200\n",
      "3/3 [==============================] - 0s 38ms/step - loss: 0.4890 - accuracy: 0.9500 - val_loss: 103.5139 - val_accuracy: 0.4222\n",
      "Epoch 70/200\n",
      "3/3 [==============================] - 0s 38ms/step - loss: 0.1370 - accuracy: 0.9667 - val_loss: 106.1589 - val_accuracy: 0.3333\n",
      "Epoch 71/200\n",
      "3/3 [==============================] - 0s 48ms/step - loss: 0.2502 - accuracy: 0.9611 - val_loss: 107.5726 - val_accuracy: 0.2889\n",
      "Epoch 72/200\n",
      "3/3 [==============================] - 0s 32ms/step - loss: 0.1468 - accuracy: 0.9722 - val_loss: 103.5682 - val_accuracy: 0.4222\n",
      "Epoch 73/200\n",
      "3/3 [==============================] - 0s 37ms/step - loss: 0.0976 - accuracy: 0.9722 - val_loss: 101.7995 - val_accuracy: 0.3778\n",
      "Epoch 74/200\n",
      "3/3 [==============================] - 0s 39ms/step - loss: 0.0660 - accuracy: 0.9722 - val_loss: 100.7546 - val_accuracy: 0.3111\n",
      "Epoch 75/200\n",
      "3/3 [==============================] - 0s 50ms/step - loss: 0.0819 - accuracy: 0.9778 - val_loss: 102.2767 - val_accuracy: 0.3778\n",
      "Epoch 76/200\n",
      "3/3 [==============================] - 0s 46ms/step - loss: 0.0709 - accuracy: 0.9722 - val_loss: 99.1858 - val_accuracy: 0.3111\n",
      "Epoch 77/200\n",
      "3/3 [==============================] - 0s 49ms/step - loss: 0.1068 - accuracy: 0.9667 - val_loss: 105.6088 - val_accuracy: 0.4222\n",
      "Epoch 78/200\n",
      "3/3 [==============================] - 0s 42ms/step - loss: 0.1718 - accuracy: 0.9667 - val_loss: 122.1956 - val_accuracy: 0.4222\n",
      "Epoch 79/200\n",
      "3/3 [==============================] - 0s 46ms/step - loss: 0.2792 - accuracy: 0.9389 - val_loss: 114.7780 - val_accuracy: 0.4222\n",
      "Epoch 80/200\n",
      "3/3 [==============================] - 0s 47ms/step - loss: 0.1706 - accuracy: 0.9556 - val_loss: 105.2666 - val_accuracy: 0.4222\n",
      "Epoch 81/200\n",
      "3/3 [==============================] - 0s 50ms/step - loss: 0.0779 - accuracy: 0.9722 - val_loss: 103.7714 - val_accuracy: 0.3778\n",
      "Epoch 82/200\n",
      "3/3 [==============================] - 0s 49ms/step - loss: 0.1147 - accuracy: 0.9778 - val_loss: 108.4516 - val_accuracy: 0.3778\n",
      "Epoch 83/200\n",
      "3/3 [==============================] - 0s 48ms/step - loss: 0.1639 - accuracy: 0.9667 - val_loss: 107.1702 - val_accuracy: 0.4222\n",
      "Epoch 84/200\n",
      "3/3 [==============================] - 0s 45ms/step - loss: 0.0776 - accuracy: 0.9778 - val_loss: 98.6274 - val_accuracy: 0.3778\n",
      "Epoch 85/200\n",
      "3/3 [==============================] - 0s 49ms/step - loss: 0.1106 - accuracy: 0.9778 - val_loss: 97.7523 - val_accuracy: 0.3111\n",
      "Epoch 86/200\n",
      "3/3 [==============================] - 0s 45ms/step - loss: 0.0456 - accuracy: 0.9889 - val_loss: 102.9216 - val_accuracy: 0.3111\n",
      "Epoch 87/200\n",
      "3/3 [==============================] - 0s 49ms/step - loss: 0.1039 - accuracy: 0.9722 - val_loss: 104.7387 - val_accuracy: 0.3111\n",
      "Epoch 88/200\n",
      "3/3 [==============================] - 0s 49ms/step - loss: 0.1075 - accuracy: 0.9833 - val_loss: 105.3890 - val_accuracy: 0.3778\n",
      "Epoch 89/200\n",
      "3/3 [==============================] - 0s 44ms/step - loss: 0.1166 - accuracy: 0.9778 - val_loss: 116.3212 - val_accuracy: 0.4222\n",
      "Epoch 90/200\n",
      "3/3 [==============================] - 0s 43ms/step - loss: 0.2717 - accuracy: 0.9556 - val_loss: 108.2020 - val_accuracy: 0.4222\n",
      "Epoch 91/200\n",
      "3/3 [==============================] - 0s 42ms/step - loss: 0.1661 - accuracy: 0.9667 - val_loss: 102.8931 - val_accuracy: 0.1778\n",
      "Epoch 92/200\n",
      "3/3 [==============================] - 0s 40ms/step - loss: 0.2165 - accuracy: 0.9556 - val_loss: 115.3365 - val_accuracy: 0.4222\n",
      "Epoch 93/200\n",
      "3/3 [==============================] - 0s 41ms/step - loss: 0.2617 - accuracy: 0.9389 - val_loss: 106.9686 - val_accuracy: 0.4222\n",
      "Epoch 94/200\n",
      "3/3 [==============================] - 0s 43ms/step - loss: 0.0792 - accuracy: 0.9667 - val_loss: 96.5001 - val_accuracy: 0.3111\n",
      "Epoch 95/200\n",
      "3/3 [==============================] - 0s 42ms/step - loss: 0.1777 - accuracy: 0.9556 - val_loss: 118.4945 - val_accuracy: 0.4222\n",
      "Epoch 96/200\n",
      "3/3 [==============================] - 0s 47ms/step - loss: 0.4465 - accuracy: 0.9278 - val_loss: 126.8630 - val_accuracy: 0.4222\n",
      "Epoch 97/200\n",
      "3/3 [==============================] - 0s 52ms/step - loss: 0.1776 - accuracy: 0.9611 - val_loss: 112.7335 - val_accuracy: 0.1333\n",
      "Epoch 98/200\n",
      "3/3 [==============================] - 0s 51ms/step - loss: 0.7011 - accuracy: 0.9278 - val_loss: 149.1715 - val_accuracy: 0.4222\n",
      "Epoch 99/200\n",
      "3/3 [==============================] - 0s 51ms/step - loss: 1.7492 - accuracy: 0.8500 - val_loss: 132.0055 - val_accuracy: 0.4222\n",
      "Epoch 100/200\n",
      "3/3 [==============================] - 0s 62ms/step - loss: 1.0656 - accuracy: 0.9056 - val_loss: 122.6819 - val_accuracy: 0.1556\n",
      "Epoch 101/200\n",
      "3/3 [==============================] - 0s 59ms/step - loss: 1.0994 - accuracy: 0.8833 - val_loss: 103.1543 - val_accuracy: 0.3556\n",
      "Epoch 102/200\n",
      "3/3 [==============================] - 0s 55ms/step - loss: 1.8278 - accuracy: 0.8611 - val_loss: 133.5326 - val_accuracy: 0.0222\n",
      "Epoch 103/200\n",
      "3/3 [==============================] - 0s 45ms/step - loss: 3.2929 - accuracy: 0.8222 - val_loss: 156.2317 - val_accuracy: 0.4222\n",
      "Epoch 104/200\n",
      "3/3 [==============================] - 0s 47ms/step - loss: 4.6151 - accuracy: 0.8444 - val_loss: 106.8677 - val_accuracy: 0.2667\n",
      "Epoch 105/200\n",
      "3/3 [==============================] - 0s 47ms/step - loss: 4.4653 - accuracy: 0.8722 - val_loss: 143.5832 - val_accuracy: 0.4222\n",
      "Epoch 106/200\n",
      "3/3 [==============================] - 0s 49ms/step - loss: 4.1031 - accuracy: 0.7833 - val_loss: 154.1474 - val_accuracy: 0.3556\n",
      "Epoch 107/200\n",
      "3/3 [==============================] - 0s 51ms/step - loss: 4.6408 - accuracy: 0.7833 - val_loss: 147.0767 - val_accuracy: 0.1778\n",
      "Epoch 108/200\n",
      "3/3 [==============================] - 0s 47ms/step - loss: 3.9357 - accuracy: 0.8000 - val_loss: 184.9807 - val_accuracy: 0.4222\n",
      "Epoch 109/200\n",
      "3/3 [==============================] - 0s 42ms/step - loss: 2.4146 - accuracy: 0.8056 - val_loss: 136.3803 - val_accuracy: 0.0000e+00\n",
      "Epoch 110/200\n",
      "3/3 [==============================] - 0s 53ms/step - loss: 2.7325 - accuracy: 0.8833 - val_loss: 145.6481 - val_accuracy: 0.3778\n",
      "Epoch 111/200\n",
      "3/3 [==============================] - 0s 55ms/step - loss: 4.4186 - accuracy: 0.8056 - val_loss: 140.6329 - val_accuracy: 0.4222\n",
      "Epoch 112/200\n",
      "3/3 [==============================] - 0s 49ms/step - loss: 1.8132 - accuracy: 0.8778 - val_loss: 107.0696 - val_accuracy: 0.3111\n",
      "Epoch 113/200\n",
      "3/3 [==============================] - 0s 40ms/step - loss: 0.8420 - accuracy: 0.9056 - val_loss: 162.4761 - val_accuracy: 0.4222\n",
      "Epoch 114/200\n",
      "3/3 [==============================] - 0s 41ms/step - loss: 3.0678 - accuracy: 0.8389 - val_loss: 126.6550 - val_accuracy: 0.4222\n",
      "Epoch 115/200\n",
      "3/3 [==============================] - 0s 40ms/step - loss: 3.1624 - accuracy: 0.8889 - val_loss: 161.0477 - val_accuracy: 0.0000e+00\n",
      "Epoch 116/200\n",
      "3/3 [==============================] - 0s 32ms/step - loss: 4.1472 - accuracy: 0.8556 - val_loss: 219.4350 - val_accuracy: 0.4222\n",
      "Epoch 117/200\n",
      "3/3 [==============================] - 0s 35ms/step - loss: 4.6588 - accuracy: 0.8111 - val_loss: 141.0125 - val_accuracy: 0.0000e+00\n",
      "Epoch 118/200\n",
      "3/3 [==============================] - 0s 36ms/step - loss: 3.8075 - accuracy: 0.8500 - val_loss: 136.6876 - val_accuracy: 0.4000\n",
      "Epoch 119/200\n",
      "3/3 [==============================] - 0s 47ms/step - loss: 3.8923 - accuracy: 0.8389 - val_loss: 154.4687 - val_accuracy: 0.4222\n",
      "Epoch 120/200\n",
      "3/3 [==============================] - 0s 41ms/step - loss: 3.7713 - accuracy: 0.8722 - val_loss: 142.4133 - val_accuracy: 0.0000e+00\n",
      "Epoch 121/200\n",
      "3/3 [==============================] - 0s 49ms/step - loss: 18.0080 - accuracy: 0.7222 - val_loss: 213.1174 - val_accuracy: 0.0222\n",
      "Epoch 122/200\n",
      "3/3 [==============================] - 0s 55ms/step - loss: 14.4594 - accuracy: 0.7111 - val_loss: 122.8957 - val_accuracy: 0.4000\n",
      "Epoch 123/200\n",
      "3/3 [==============================] - 0s 48ms/step - loss: 7.3737 - accuracy: 0.7944 - val_loss: 180.1945 - val_accuracy: 0.0667\n",
      "Epoch 124/200\n",
      "3/3 [==============================] - 0s 55ms/step - loss: 6.8076 - accuracy: 0.7667 - val_loss: 186.7964 - val_accuracy: 0.4222\n",
      "Epoch 125/200\n",
      "3/3 [==============================] - 0s 49ms/step - loss: 5.7551 - accuracy: 0.8056 - val_loss: 145.7173 - val_accuracy: 0.3778\n",
      "Epoch 126/200\n",
      "3/3 [==============================] - 0s 52ms/step - loss: 1.9515 - accuracy: 0.8444 - val_loss: 229.3785 - val_accuracy: 0.4222\n",
      "Epoch 127/200\n",
      "3/3 [==============================] - 0s 48ms/step - loss: 2.2789 - accuracy: 0.8333 - val_loss: 198.8133 - val_accuracy: 0.0222\n",
      "Epoch 128/200\n",
      "3/3 [==============================] - 0s 48ms/step - loss: 2.6868 - accuracy: 0.8889 - val_loss: 191.7102 - val_accuracy: 0.3333\n",
      "Epoch 129/200\n",
      "3/3 [==============================] - 0s 54ms/step - loss: 1.0669 - accuracy: 0.9111 - val_loss: 240.2071 - val_accuracy: 0.4222\n",
      "Epoch 130/200\n",
      "3/3 [==============================] - 0s 63ms/step - loss: 2.1181 - accuracy: 0.8556 - val_loss: 183.9515 - val_accuracy: 0.3333\n",
      "Epoch 131/200\n",
      "3/3 [==============================] - 0s 60ms/step - loss: 0.9088 - accuracy: 0.9222 - val_loss: 185.0020 - val_accuracy: 0.0000e+00\n",
      "Epoch 132/200\n",
      "3/3 [==============================] - 0s 41ms/step - loss: 1.8481 - accuracy: 0.9222 - val_loss: 220.0081 - val_accuracy: 0.4222\n",
      "Epoch 133/200\n",
      "3/3 [==============================] - 0s 43ms/step - loss: 1.9712 - accuracy: 0.8722 - val_loss: 232.0689 - val_accuracy: 0.4000\n",
      "Epoch 134/200\n",
      "3/3 [==============================] - 0s 42ms/step - loss: 1.0523 - accuracy: 0.9167 - val_loss: 184.7160 - val_accuracy: 0.3556\n",
      "Epoch 135/200\n",
      "3/3 [==============================] - 0s 42ms/step - loss: 0.5244 - accuracy: 0.9556 - val_loss: 202.8727 - val_accuracy: 0.4222\n",
      "Epoch 136/200\n",
      "3/3 [==============================] - 0s 39ms/step - loss: 0.6331 - accuracy: 0.9556 - val_loss: 233.4852 - val_accuracy: 0.4222\n",
      "Epoch 137/200\n",
      "3/3 [==============================] - 0s 41ms/step - loss: 0.7502 - accuracy: 0.9444 - val_loss: 248.7386 - val_accuracy: 0.4222\n",
      "Epoch 138/200\n",
      "3/3 [==============================] - 0s 41ms/step - loss: 0.6107 - accuracy: 0.9389 - val_loss: 220.1305 - val_accuracy: 0.4222\n",
      "Epoch 139/200\n",
      "3/3 [==============================] - 0s 45ms/step - loss: 0.2128 - accuracy: 0.9778 - val_loss: 191.8300 - val_accuracy: 0.1778\n",
      "Epoch 140/200\n",
      "3/3 [==============================] - 0s 39ms/step - loss: 0.2636 - accuracy: 0.9722 - val_loss: 213.1417 - val_accuracy: 0.4000\n",
      "Epoch 141/200\n",
      "3/3 [==============================] - 0s 40ms/step - loss: 0.2374 - accuracy: 0.9722 - val_loss: 224.9626 - val_accuracy: 0.4222\n",
      "Epoch 142/200\n",
      "3/3 [==============================] - 0s 47ms/step - loss: 0.2497 - accuracy: 0.9722 - val_loss: 216.0671 - val_accuracy: 0.4222\n",
      "Epoch 143/200\n",
      "3/3 [==============================] - 0s 48ms/step - loss: 0.1929 - accuracy: 0.9722 - val_loss: 203.2068 - val_accuracy: 0.4000\n",
      "Epoch 144/200\n",
      "3/3 [==============================] - 0s 47ms/step - loss: 0.1771 - accuracy: 0.9833 - val_loss: 196.1466 - val_accuracy: 0.3778\n",
      "Epoch 145/200\n",
      "3/3 [==============================] - 0s 59ms/step - loss: 0.1470 - accuracy: 0.9944 - val_loss: 204.3942 - val_accuracy: 0.3333\n",
      "Epoch 146/200\n",
      "3/3 [==============================] - 0s 56ms/step - loss: 0.1920 - accuracy: 0.9889 - val_loss: 213.3324 - val_accuracy: 0.3111\n",
      "Epoch 147/200\n",
      "3/3 [==============================] - 0s 50ms/step - loss: 0.0780 - accuracy: 0.9833 - val_loss: 208.4922 - val_accuracy: 0.3333\n",
      "Epoch 148/200\n",
      "3/3 [==============================] - 0s 42ms/step - loss: 0.0821 - accuracy: 0.9778 - val_loss: 205.4046 - val_accuracy: 0.3333\n",
      "Epoch 149/200\n",
      "3/3 [==============================] - 0s 56ms/step - loss: 0.1942 - accuracy: 0.9778 - val_loss: 215.1444 - val_accuracy: 0.3333\n",
      "Epoch 150/200\n",
      "3/3 [==============================] - 0s 52ms/step - loss: 0.0659 - accuracy: 0.9833 - val_loss: 225.1696 - val_accuracy: 0.2000\n",
      "Epoch 151/200\n",
      "3/3 [==============================] - 0s 45ms/step - loss: 0.2147 - accuracy: 0.9611 - val_loss: 260.0869 - val_accuracy: 0.4000\n",
      "Epoch 152/200\n",
      "3/3 [==============================] - 0s 40ms/step - loss: 0.3355 - accuracy: 0.9500 - val_loss: 244.7828 - val_accuracy: 0.4222\n",
      "Epoch 153/200\n",
      "3/3 [==============================] - 0s 42ms/step - loss: 0.1953 - accuracy: 0.9778 - val_loss: 202.1366 - val_accuracy: 0.4000\n",
      "Epoch 154/200\n",
      "3/3 [==============================] - 0s 50ms/step - loss: 0.3733 - accuracy: 0.9667 - val_loss: 195.9054 - val_accuracy: 0.4000\n",
      "Epoch 155/200\n",
      "3/3 [==============================] - 0s 52ms/step - loss: 0.3160 - accuracy: 0.9556 - val_loss: 213.1942 - val_accuracy: 0.4000\n",
      "Epoch 156/200\n",
      "3/3 [==============================] - 0s 55ms/step - loss: 0.2305 - accuracy: 0.9611 - val_loss: 195.4922 - val_accuracy: 0.3556\n",
      "Epoch 157/200\n",
      "3/3 [==============================] - 0s 52ms/step - loss: 0.0943 - accuracy: 0.9778 - val_loss: 173.5543 - val_accuracy: 0.0444\n",
      "Epoch 158/200\n",
      "3/3 [==============================] - 0s 41ms/step - loss: 0.4684 - accuracy: 0.9722 - val_loss: 211.7536 - val_accuracy: 0.4222\n",
      "Epoch 159/200\n",
      "3/3 [==============================] - 0s 47ms/step - loss: 0.2533 - accuracy: 0.9611 - val_loss: 247.2860 - val_accuracy: 0.4222\n",
      "Epoch 160/200\n",
      "3/3 [==============================] - 0s 37ms/step - loss: 0.3042 - accuracy: 0.9667 - val_loss: 216.7597 - val_accuracy: 0.3778\n",
      "Epoch 161/200\n",
      "3/3 [==============================] - 0s 42ms/step - loss: 0.4836 - accuracy: 0.9444 - val_loss: 234.3662 - val_accuracy: 0.0222\n",
      "Epoch 162/200\n",
      "3/3 [==============================] - 0s 44ms/step - loss: 0.2375 - accuracy: 0.9556 - val_loss: 217.0761 - val_accuracy: 0.4000\n",
      "Epoch 163/200\n",
      "3/3 [==============================] - 0s 45ms/step - loss: 0.1785 - accuracy: 0.9556 - val_loss: 179.8158 - val_accuracy: 0.3778\n",
      "Epoch 164/200\n",
      "3/3 [==============================] - 0s 43ms/step - loss: 0.0666 - accuracy: 0.9833 - val_loss: 173.6005 - val_accuracy: 0.3778\n",
      "Epoch 165/200\n",
      "3/3 [==============================] - 0s 43ms/step - loss: 0.3313 - accuracy: 0.9611 - val_loss: 196.2312 - val_accuracy: 0.4000\n",
      "Epoch 166/200\n",
      "3/3 [==============================] - 0s 46ms/step - loss: 0.1098 - accuracy: 0.9778 - val_loss: 218.1112 - val_accuracy: 0.4000\n",
      "Epoch 167/200\n",
      "3/3 [==============================] - 0s 46ms/step - loss: 0.1815 - accuracy: 0.9722 - val_loss: 211.8231 - val_accuracy: 0.3333\n",
      "Epoch 168/200\n",
      "3/3 [==============================] - 0s 44ms/step - loss: 0.1392 - accuracy: 0.9722 - val_loss: 203.8191 - val_accuracy: 0.0222\n",
      "Epoch 169/200\n",
      "3/3 [==============================] - 0s 43ms/step - loss: 0.7796 - accuracy: 0.9444 - val_loss: 262.8065 - val_accuracy: 0.4222\n",
      "Epoch 170/200\n",
      "3/3 [==============================] - 0s 46ms/step - loss: 0.7500 - accuracy: 0.9167 - val_loss: 263.2256 - val_accuracy: 0.4222\n",
      "Epoch 171/200\n",
      "3/3 [==============================] - 0s 59ms/step - loss: 0.5518 - accuracy: 0.9556 - val_loss: 211.8514 - val_accuracy: 0.3556\n",
      "Epoch 172/200\n",
      "3/3 [==============================] - 0s 61ms/step - loss: 0.8695 - accuracy: 0.9500 - val_loss: 184.5985 - val_accuracy: 0.2667\n",
      "Epoch 173/200\n",
      "3/3 [==============================] - 0s 50ms/step - loss: 0.1451 - accuracy: 0.9778 - val_loss: 185.0899 - val_accuracy: 0.3556\n",
      "Epoch 174/200\n",
      "3/3 [==============================] - 0s 40ms/step - loss: 0.4361 - accuracy: 0.9667 - val_loss: 192.0884 - val_accuracy: 0.2222\n",
      "Epoch 175/200\n",
      "3/3 [==============================] - 0s 44ms/step - loss: 0.8636 - accuracy: 0.9389 - val_loss: 188.3009 - val_accuracy: 0.3333\n",
      "Epoch 176/200\n",
      "3/3 [==============================] - 0s 44ms/step - loss: 0.2335 - accuracy: 0.9611 - val_loss: 202.7332 - val_accuracy: 0.4222\n",
      "Epoch 177/200\n",
      "3/3 [==============================] - 0s 56ms/step - loss: 0.4339 - accuracy: 0.9389 - val_loss: 217.8554 - val_accuracy: 0.4222\n",
      "Epoch 178/200\n",
      "3/3 [==============================] - 0s 53ms/step - loss: 0.6721 - accuracy: 0.9389 - val_loss: 251.7589 - val_accuracy: 0.4222\n",
      "Epoch 179/200\n",
      "3/3 [==============================] - 0s 53ms/step - loss: 0.2169 - accuracy: 0.9667 - val_loss: 250.1910 - val_accuracy: 0.4000\n",
      "Epoch 180/200\n",
      "3/3 [==============================] - 0s 54ms/step - loss: 0.0678 - accuracy: 0.9833 - val_loss: 232.1159 - val_accuracy: 0.2667\n",
      "Epoch 181/200\n",
      "3/3 [==============================] - 0s 43ms/step - loss: 0.1846 - accuracy: 0.9889 - val_loss: 251.4978 - val_accuracy: 0.4000\n",
      "Epoch 182/200\n",
      "3/3 [==============================] - 0s 49ms/step - loss: 0.1608 - accuracy: 0.9833 - val_loss: 302.1150 - val_accuracy: 0.4222\n",
      "Epoch 183/200\n",
      "3/3 [==============================] - 0s 30ms/step - loss: 0.3912 - accuracy: 0.9500 - val_loss: 289.5545 - val_accuracy: 0.4222\n",
      "Epoch 184/200\n",
      "3/3 [==============================] - 0s 38ms/step - loss: 0.3010 - accuracy: 0.9667 - val_loss: 263.0815 - val_accuracy: 0.4222\n",
      "Epoch 185/200\n",
      "3/3 [==============================] - 0s 43ms/step - loss: 0.2225 - accuracy: 0.9611 - val_loss: 262.1202 - val_accuracy: 0.4000\n",
      "Epoch 186/200\n",
      "3/3 [==============================] - 0s 38ms/step - loss: 0.1129 - accuracy: 0.9722 - val_loss: 261.7359 - val_accuracy: 0.3556\n",
      "Epoch 187/200\n",
      "3/3 [==============================] - 0s 37ms/step - loss: 0.4641 - accuracy: 0.9667 - val_loss: 259.2752 - val_accuracy: 0.3778\n",
      "Epoch 188/200\n",
      "3/3 [==============================] - 0s 37ms/step - loss: 0.1970 - accuracy: 0.9722 - val_loss: 299.4788 - val_accuracy: 0.4222\n",
      "Epoch 189/200\n",
      "3/3 [==============================] - 0s 47ms/step - loss: 0.6893 - accuracy: 0.9444 - val_loss: 264.4887 - val_accuracy: 0.4222\n",
      "Epoch 190/200\n",
      "3/3 [==============================] - 0s 49ms/step - loss: 0.2499 - accuracy: 0.9722 - val_loss: 232.7226 - val_accuracy: 0.4000\n",
      "Epoch 191/200\n",
      "3/3 [==============================] - 0s 53ms/step - loss: 0.1637 - accuracy: 0.9833 - val_loss: 239.7649 - val_accuracy: 0.4000\n",
      "Epoch 192/200\n",
      "3/3 [==============================] - 0s 43ms/step - loss: 0.0671 - accuracy: 0.9889 - val_loss: 247.0485 - val_accuracy: 0.3556\n",
      "Epoch 193/200\n",
      "3/3 [==============================] - 0s 50ms/step - loss: 0.1098 - accuracy: 0.9722 - val_loss: 245.8545 - val_accuracy: 0.3556\n",
      "Epoch 194/200\n",
      "3/3 [==============================] - 0s 51ms/step - loss: 0.0703 - accuracy: 0.9778 - val_loss: 243.8677 - val_accuracy: 0.4000\n",
      "Epoch 195/200\n",
      "3/3 [==============================] - 0s 50ms/step - loss: 0.0332 - accuracy: 0.9944 - val_loss: 237.1823 - val_accuracy: 0.4000\n",
      "Epoch 196/200\n",
      "3/3 [==============================] - 0s 53ms/step - loss: 0.0514 - accuracy: 0.9833 - val_loss: 232.9986 - val_accuracy: 0.4000\n",
      "Epoch 197/200\n",
      "3/3 [==============================] - 0s 49ms/step - loss: 0.0595 - accuracy: 0.9778 - val_loss: 236.1317 - val_accuracy: 0.4000\n",
      "Epoch 198/200\n",
      "3/3 [==============================] - 0s 49ms/step - loss: 0.0428 - accuracy: 0.9889 - val_loss: 249.7130 - val_accuracy: 0.4000\n",
      "Epoch 199/200\n",
      "3/3 [==============================] - 0s 51ms/step - loss: 0.1131 - accuracy: 0.9722 - val_loss: 243.4635 - val_accuracy: 0.4000\n",
      "Epoch 200/200\n",
      "3/3 [==============================] - 0s 50ms/step - loss: 0.0354 - accuracy: 0.9944 - val_loss: 222.8194 - val_accuracy: 0.3556\n"
     ]
    },
    {
     "data": {
      "text/plain": [
       "<keras.src.callbacks.History at 0x1fc1542ed90>"
      ]
     },
     "execution_count": 384,
     "metadata": {},
     "output_type": "execute_result"
    }
   ],
   "source": [
    "model.fit(train_img, train_label, epochs=200, batch_size=64, validation_split=0.2)"
   ]
  },
  {
   "cell_type": "code",
   "execution_count": 385,
   "metadata": {},
   "outputs": [
    {
     "data": {
      "text/plain": [
       "(400, 780, 3)"
      ]
     },
     "execution_count": 385,
     "metadata": {},
     "output_type": "execute_result"
    }
   ],
   "source": [
    "from PIL import Image\n",
    "\n",
    "\n",
    "# Specify the image path\n",
    "image_path = r\"D:\\Github\\Face-Recog\\cod\\Testing\\55.jpg\"\n",
    "\n",
    "# Load the image using PIL\n",
    "image = Image.open(image_path)\n",
    "\n",
    "# Convert the PIL image to a NumPy array\n",
    "image_array = np.array(image)\n",
    "image_array.shape"
   ]
  },
  {
   "cell_type": "markdown",
   "metadata": {},
   "source": [
    "#Testing Starts here"
   ]
  },
  {
   "cell_type": "code",
   "execution_count": 417,
   "metadata": {},
   "outputs": [],
   "source": [
    "def b_predict(inum):\n",
    "    image_path = f\"D:\\Github\\Face-Recog\\Testing\\\\{inum}.jpg\"\n",
    "\n",
    "    image = Image.open(image_path)\n",
    "\n",
    "    image_array = np.array(image)\n",
    "    \n",
    "    tes_img=image.resize((64,64))\n",
    "    test_img=np.array(tes_img)\n",
    "    \n",
    "    tp=test_img.copy()\n",
    "    test_img=test_img.reshape((1,64,64,3))\n",
    "    prediction = model.predict(test_img)\n",
    "    predicted_digit = prediction.argmax() #finding the digit with the highest probability\n",
    "    \n",
    "    plt.imshow(tp)\n",
    "    plt.title(f'model predicts this photo colour as: {color_folders[predicted_digit]}')\n",
    "    plt.show()\n"
   ]
  },
  {
   "cell_type": "code",
   "execution_count": 418,
   "metadata": {},
   "outputs": [
    {
     "name": "stdout",
     "output_type": "stream",
     "text": [
      "1/1 [==============================] - 0s 29ms/step\n"
     ]
    },
    {
     "data": {
      "image/png": "[encoded data removed]",
      "text/plain": [
       "<Figure size 640x480 with 1 Axes>"
      ]
     },
     "metadata": {},
     "output_type": "display_data"
    }
   ],
   "source": [
    "b_predict(11)"
   ]
  },
  {
   "cell_type": "code",
   "execution_count": null,
   "metadata": {},
   "outputs": [],
   "source": []
  }
 ],
 "metadata": {
  "kernelspec": {
   "display_name": "Python 3",
   "language": "python",
   "name": "python3"
  },
  "language_info": {
   "codemirror_mode": {
    "name": "ipython",
    "version": 3
   },
   "file_extension": ".py",
   "mimetype": "text/x-python",
   "name": "python",
   "nbconvert_exporter": "python",
   "pygments_lexer": "ipython3",
   "version": "3.11.4"
  }
 },
 "nbformat": 4,
 "nbformat_minor": 2
}
